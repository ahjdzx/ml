{
 "cells": [
  {
   "cell_type": "code",
   "execution_count": 1,
   "id": "bb72344d-2dcb-462a-993f-d37745e5e01d",
   "metadata": {},
   "outputs": [
    {
     "name": "stdout",
     "output_type": "stream",
     "text": [
      "(True, array([137,  80,  78, ...,  66,  96, 130], dtype=uint8))\n",
      "524743\n",
      "524743\n"
     ]
    }
   ],
   "source": [
    "import numpy as np\n",
    "import cv2\n",
    "\n",
    "\n",
    "img = cv2.imread('test_image.jpg')\n",
    "# print(np.shape(img))\n",
    "# img = cv2.resize(img, (640, 640), interpolation=cv2.INTER_CUBIC)\n",
    "# cv2.imshow('', img)\n",
    "# cv2.waitKey(0)\n",
    "# cv2.destroyAllWindows()\n",
    "\n",
    "xx = cv2.imencode('.png', img)\n",
    "print(xx)\n",
    "\n",
    "imgbytes = xx[1]\n",
    "print(len(imgbytes))\n",
    "imgstring = np.array(imgbytes).tobytes()\n",
    "print(len(imgstring))"
   ]
  },
  {
   "cell_type": "code",
   "execution_count": 4,
   "id": "5fa13897-37f1-4eb0-9b64-5478335c2068",
   "metadata": {},
   "outputs": [
    {
     "name": "stdout",
     "output_type": "stream",
     "text": [
      "Looking in indexes: https://pypi.tuna.tsinghua.edu.cn/simple/\n",
      "Requirement already satisfied: tritonclient in /Users/zhangxin/.pyenv/versions/miniforge3-4.10.3-10/lib/python3.9/site-packages (2.28.0)\n",
      "Requirement already satisfied: numpy>=1.19.1 in /Users/zhangxin/.pyenv/versions/miniforge3-4.10.3-10/lib/python3.9/site-packages (from tritonclient) (1.23.5)\n",
      "Requirement already satisfied: python-rapidjson>=0.9.1 in /Users/zhangxin/.pyenv/versions/miniforge3-4.10.3-10/lib/python3.9/site-packages (from tritonclient) (1.9)\n"
     ]
    }
   ],
   "source": [
    "!pip install tritonclient"
   ]
  },
  {
   "cell_type": "code",
   "execution_count": null,
   "id": "0cd6f2c0-0c18-4a58-a893-c5c4ca04d4f7",
   "metadata": {},
   "outputs": [
    {
     "name": "stdout",
     "output_type": "stream",
     "text": [
      "Looking in indexes: https://pypi.tuna.tsinghua.edu.cn/simple\n",
      "^C\n",
      "\u001b[31mERROR: Operation cancelled by user\u001b[0m\u001b[31m\n",
      "\u001b[0mLooking in indexes: https://pypi.tuna.tsinghua.edu.cn/simple\n"
     ]
    }
   ],
   "source": [
    "!pip install opencv-contrib-python==4.5.5.62\n",
    "!pip install opencv-python-headless==4.5.5.62"
   ]
  },
  {
   "cell_type": "code",
   "execution_count": 2,
   "id": "369e80f2-213a-49cd-be08-1608760a9b72",
   "metadata": {},
   "outputs": [
    {
     "ename": "RuntimeError",
     "evalue": "The installation does not include grpc support. Specify 'grpc' or 'all' while installing the tritonclient package to include the support",
     "output_type": "error",
     "traceback": [
      "\u001b[0;31m---------------------------------------------------------------------------\u001b[0m",
      "\u001b[0;31mModuleNotFoundError\u001b[0m                       Traceback (most recent call last)",
      "File \u001b[0;32m~/.pyenv/versions/miniforge3-4.10.3-10/envs/ml/lib/python3.9/site-packages/tritonclient/grpc/__init__.py:28\u001b[0m\n\u001b[1;32m     27\u001b[0m \u001b[38;5;28;01mtry\u001b[39;00m:\n\u001b[0;32m---> 28\u001b[0m     \u001b[38;5;28;01mfrom\u001b[39;00m \u001b[38;5;21;01mgoogle\u001b[39;00m\u001b[38;5;21;01m.\u001b[39;00m\u001b[38;5;21;01mprotobuf\u001b[39;00m\u001b[38;5;21;01m.\u001b[39;00m\u001b[38;5;21;01mjson_format\u001b[39;00m \u001b[38;5;28;01mimport\u001b[39;00m MessageToJson\n\u001b[1;32m     29\u001b[0m     \u001b[38;5;28;01mimport\u001b[39;00m \u001b[38;5;21;01mgrpc\u001b[39;00m\n",
      "\u001b[0;31mModuleNotFoundError\u001b[0m: No module named 'google'",
      "\nThe above exception was the direct cause of the following exception:\n",
      "\u001b[0;31mRuntimeError\u001b[0m                              Traceback (most recent call last)",
      "Cell \u001b[0;32mIn [2], line 5\u001b[0m\n\u001b[1;32m      3\u001b[0m \u001b[38;5;28;01mimport\u001b[39;00m \u001b[38;5;21;01msys\u001b[39;00m\n\u001b[1;32m      4\u001b[0m \u001b[38;5;28;01mimport\u001b[39;00m \u001b[38;5;21;01mcv2\u001b[39;00m\n\u001b[0;32m----> 5\u001b[0m \u001b[38;5;28;01mimport\u001b[39;00m \u001b[38;5;21;01mtritonclient\u001b[39;00m\u001b[38;5;21;01m.\u001b[39;00m\u001b[38;5;21;01mgrpc\u001b[39;00m \u001b[38;5;28;01mas\u001b[39;00m \u001b[38;5;21;01mgrpcclient\u001b[39;00m\n\u001b[1;32m      6\u001b[0m \u001b[38;5;28;01mimport\u001b[39;00m \u001b[38;5;21;01mtime\u001b[39;00m\n",
      "File \u001b[0;32m~/.pyenv/versions/miniforge3-4.10.3-10/envs/ml/lib/python3.9/site-packages/tritonclient/grpc/__init__.py:37\u001b[0m\n\u001b[1;32m     35\u001b[0m     \u001b[38;5;28;01mimport\u001b[39;00m \u001b[38;5;21;01mstruct\u001b[39;00m\n\u001b[1;32m     36\u001b[0m \u001b[38;5;28;01mexcept\u001b[39;00m \u001b[38;5;167;01mModuleNotFoundError\u001b[39;00m \u001b[38;5;28;01mas\u001b[39;00m error:\n\u001b[0;32m---> 37\u001b[0m     \u001b[38;5;28;01mraise\u001b[39;00m \u001b[38;5;167;01mRuntimeError\u001b[39;00m(\n\u001b[1;32m     38\u001b[0m         \u001b[38;5;124m'\u001b[39m\u001b[38;5;124mThe installation does not include grpc support. Specify \u001b[39m\u001b[38;5;130;01m\\'\u001b[39;00m\u001b[38;5;124mgrpc\u001b[39m\u001b[38;5;130;01m\\'\u001b[39;00m\u001b[38;5;124m or \u001b[39m\u001b[38;5;130;01m\\'\u001b[39;00m\u001b[38;5;124mall\u001b[39m\u001b[38;5;130;01m\\'\u001b[39;00m\u001b[38;5;124m while installing the tritonclient package to include the support\u001b[39m\u001b[38;5;124m'\u001b[39m\n\u001b[1;32m     39\u001b[0m     ) \u001b[38;5;28;01mfrom\u001b[39;00m \u001b[38;5;21;01merror\u001b[39;00m\n\u001b[1;32m     41\u001b[0m \u001b[38;5;28;01mfrom\u001b[39;00m \u001b[38;5;21;01mtritonclient\u001b[39;00m\u001b[38;5;21;01m.\u001b[39;00m\u001b[38;5;21;01mgrpc\u001b[39;00m \u001b[38;5;28;01mimport\u001b[39;00m model_config_pb2\n\u001b[1;32m     42\u001b[0m \u001b[38;5;28;01mfrom\u001b[39;00m \u001b[38;5;21;01mtritonclient\u001b[39;00m\u001b[38;5;21;01m.\u001b[39;00m\u001b[38;5;21;01mgrpc\u001b[39;00m \u001b[38;5;28;01mimport\u001b[39;00m service_pb2\n",
      "\u001b[0;31mRuntimeError\u001b[0m: The installation does not include grpc support. Specify 'grpc' or 'all' while installing the tritonclient package to include the support"
     ]
    }
   ],
   "source": [
    "import argparse\n",
    "import numpy as np\n",
    "import sys\n",
    "import cv2\n",
    "import tritonclient.grpc as grpcclient\n",
    "import time"
   ]
  },
  {
   "cell_type": "code",
   "execution_count": null,
   "id": "6ecba0db-97cd-4dcf-a2b6-1ba1b1dbebec",
   "metadata": {},
   "outputs": [],
   "source": []
  },
  {
   "cell_type": "code",
   "execution_count": null,
   "id": "4f0ffcd4-fc19-440a-b19d-5ed938607dac",
   "metadata": {},
   "outputs": [],
   "source": [
    "\n",
    "\n",
    "\n",
    "url = 'tx1-int-algorithm-mkt-plate-infer-server-ut-1:8001'\n",
    "\n",
    "\n",
    "try:\n",
    "    triton_client = grpcclient.InferenceServerClient(\n",
    "        url=url,\n",
    "        verbose=False,\n",
    "        ssl=False,\n",
    "        root_certificates=None,\n",
    "        private_key=None,\n",
    "        certificate_chain=None)\n",
    "except Exception as e:\n",
    "    print(\"channel creation failed: \" + str(e))\n",
    "    sys.exit()\n",
    "\n",
    "model_name = \"pipeline_ocr\"\n",
    "\n",
    "# Infer\n",
    "inputs = []\n",
    "outputs = []\n",
    "inputs.append(grpcclient.InferInput('INPUT0', [1, 1], \"BYTES\"))\n",
    "\n",
    "# Create the data for the two input tensors. Initialize the first\n",
    "# to unique integers and the second to all ones.\n",
    "img = cv2.imread('test_image.jpg')\n",
    "# print(np.shape(img))\n",
    "# img = cv2.resize(img, (640, 640), interpolation=cv2.INTER_CUBIC)\n",
    "# cv2.imshow('', img)\n",
    "# cv2.waitKey(0)\n",
    "# cv2.destroyAllWindows()\n",
    "\n",
    "imgbytes = cv2.imencode('.png', img)[1]\n",
    "print(len(imgbytes))\n",
    "imgstring = np.array(imgbytes).tobytes()\n",
    "print(len(imgstring))\n",
    "\n",
    "input0_data = np.expand_dims([imgstring], axis=0)\n",
    "# Initialize the data\n",
    "inputs[0].set_data_from_numpy(input0_data)\n",
    "\n",
    "\n",
    "url = 'tx1-int-algorithm-mkt-plate-infer-server-ut-1:8001'\n",
    "\n",
    "\n",
    "try:\n",
    "    triton_client = grpcclient.InferenceServerClient(\n",
    "        url=url,\n",
    "        verbose=False,\n",
    "        ssl=False,\n",
    "        root_certificates=None,\n",
    "        private_key=None,\n",
    "        certificate_chain=None)\n",
    "except Exception as e:\n",
    "    print(\"channel creation failed: \" + str(e))\n",
    "    sys.exit()\n",
    "\n",
    "model_name = \"pipeline_ocr\"\n",
    "\n",
    "# Infer\n",
    "inputs = []\n",
    "outputs = []\n",
    "inputs.append(grpcclient.InferInput('INPUT0', [1, 1], \"BYTES\"))\n",
    "\n",
    "# Create the data for the two input tensors. Initialize the first\n",
    "# to unique integers and the second to all ones.\n",
    "img = cv2.imread('test_image.jpg')\n",
    "# print(np.shape(img))\n",
    "# img = cv2.resize(img, (640, 640), interpolation=cv2.INTER_CUBIC)\n",
    "# cv2.imshow('', img)\n",
    "# cv2.waitKey(0)\n",
    "# cv2.destroyAllWindows()\n",
    "\n",
    "imgbytes = cv2.imencode('.png', img)[1]\n",
    "print(len(imgbytes))\n",
    "imgstring = np.array(imgbytes).tobytes()\n",
    "print(len(imgstring))\n",
    "\n",
    "input0_data = np.expand_dims([imgstring], axis=0)\n",
    "# Initialize the data\n",
    "inputs[0].set_data_from_numpy(input0_data)\n",
    "\n",
    "outputs.append(grpcclient.InferRequestedOutput('OUTPUT0'))\n",
    "\n",
    "# Test with outputs\n",
    "t = time.time()\n",
    "\n",
    "results = triton_client.infer(\n",
    "    model_name=model_name,\n",
    "    inputs=inputs,\n",
    "    outputs=outputs,\n",
    "    client_timeout=None,\n",
    "    headers={'test': '1'},\n",
    "    compression_algorithm=None)\n",
    "\n",
    "tt = time.time()\n",
    "\n",
    "print(tt - t)\n",
    "\n",
    "statistics = triton_client.get_inference_statistics(model_name=model_name)\n",
    "# print(statistics)\n",
    "if len(statistics.model_stats) != 1:\n",
    "    print(\"FAILED: Inference Statistics\")\n",
    "    sys.exit(1)\n",
    "\n",
    "# Get the output arrays from the results\n",
    "output0_data = results.as_numpy('OUTPUT0')\n",
    "# 输出推理结果\n",
    "print(output0_data.tolist().decode()).append(grpcclient.InferRequestedOutput('OUTPUT0'))\n",
    "\n",
    "# Test with outputs\n",
    "t = time.time()\n",
    "\n",
    "results = triton_client.infer(\n",
    "    model_name=model_name,\n",
    "    inputs=inputs,\n",
    "    outputs=outputs,\n",
    "    client_timeout=None,\n",
    "    headers={'test': '1'},\n",
    "    compression_algorithm=None)\n",
    "\n",
    "tt = time.time()\n",
    "\n",
    "print(tt - t)\n",
    "\n",
    "statistics = triton_client.get_inference_statistics(model_name=model_name)\n",
    "# print(statistics)\n",
    "if len(statistics.model_stats) != 1:\n",
    "    print(\"FAILED: Inference Statistics\")\n",
    "    sys.exit(1)\n",
    "\n",
    "# Get the output arrays from the results\n",
    "output0_data = results.as_numpy('OUTPUT0')\n",
    "# 输出推理结果\n",
    "print(output0_data.tolist().decode())"
   ]
  },
  {
   "cell_type": "code",
   "execution_count": null,
   "id": "6a371307-b8f3-4ee1-93a1-e8faf6bb733a",
   "metadata": {},
   "outputs": [],
   "source": []
  }
 ],
 "metadata": {
  "kernelspec": {
   "display_name": "Python 3 (ipykernel)",
   "language": "python",
   "name": "python3"
  },
  "language_info": {
   "codemirror_mode": {
    "name": "ipython",
    "version": 3
   },
   "file_extension": ".py",
   "mimetype": "text/x-python",
   "name": "python",
   "nbconvert_exporter": "python",
   "pygments_lexer": "ipython3",
   "version": "3.9.13"
  }
 },
 "nbformat": 4,
 "nbformat_minor": 5
}
