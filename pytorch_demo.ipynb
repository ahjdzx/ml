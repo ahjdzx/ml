{
 "cells": [
  {
   "cell_type": "code",
   "execution_count": 2,
   "id": "854dce3f-40a1-4530-a05b-0459d25ff8b6",
   "metadata": {},
   "outputs": [
    {
     "data": {
      "text/plain": [
       "'1.13.0'"
      ]
     },
     "execution_count": 2,
     "metadata": {},
     "output_type": "execute_result"
    }
   ],
   "source": [
    "import torch\n",
    "torch.__version__"
   ]
  },
  {
   "cell_type": "markdown",
   "id": "dc7892f7-cc7a-43f8-aded-578ec2cc4cc9",
   "metadata": {},
   "source": [
    "## 创建数组"
   ]
  },
  {
   "cell_type": "code",
   "execution_count": 3,
   "id": "6c44928e-1c36-4c45-a49e-cf668fbbd054",
   "metadata": {},
   "outputs": [
    {
     "name": "stdout",
     "output_type": "stream",
     "text": [
      "[1]\n"
     ]
    }
   ],
   "source": [
    "# 创建一维数组\n",
    "import numpy as np\n",
    "arr_1_d = np.asarray([1])\n",
    "print(arr_1_d)"
   ]
  },
  {
   "cell_type": "code",
   "execution_count": 4,
   "id": "675aaf87-831c-47e0-9426-7b995ced0d28",
   "metadata": {},
   "outputs": [
    {
     "name": "stdout",
     "output_type": "stream",
     "text": [
      "[[1 2]\n",
      " [3 4]]\n"
     ]
    }
   ],
   "source": [
    "# 创建二维数组\n",
    "arr_2_d = np.asarray([[1, 2], [3, 4]])\n",
    "print(arr_2_d)"
   ]
  },
  {
   "cell_type": "code",
   "execution_count": 5,
   "id": "0b49fc2e-5873-4af3-be8d-56f0bf6e9100",
   "metadata": {},
   "outputs": [
    {
     "data": {
      "text/plain": [
       "1"
      ]
     },
     "execution_count": 5,
     "metadata": {},
     "output_type": "execute_result"
    }
   ],
   "source": [
    "arr_1_d.ndim"
   ]
  },
  {
   "cell_type": "code",
   "execution_count": 6,
   "id": "074ff09d-bb81-49b8-b872-5df28d84fe39",
   "metadata": {},
   "outputs": [
    {
     "data": {
      "text/plain": [
       "2"
      ]
     },
     "execution_count": 6,
     "metadata": {},
     "output_type": "execute_result"
    }
   ],
   "source": [
    "arr_2_d.ndim"
   ]
  },
  {
   "cell_type": "code",
   "execution_count": 7,
   "id": "36426c99-13c6-4f8c-be8b-994f5c4bd30c",
   "metadata": {},
   "outputs": [
    {
     "data": {
      "text/plain": [
       "(1,)"
      ]
     },
     "execution_count": 7,
     "metadata": {},
     "output_type": "execute_result"
    }
   ],
   "source": [
    "arr_1_d.shape"
   ]
  },
  {
   "cell_type": "code",
   "execution_count": 8,
   "id": "17c9b9f7-53ac-4ec7-aa5f-128b29cfefb2",
   "metadata": {},
   "outputs": [
    {
     "data": {
      "text/plain": [
       "(2, 2)"
      ]
     },
     "execution_count": 8,
     "metadata": {},
     "output_type": "execute_result"
    }
   ],
   "source": [
    "arr_2_d.shape"
   ]
  },
  {
   "cell_type": "code",
   "execution_count": 9,
   "id": "0696e9a0-cd4e-4e90-bd84-583a4d3545f2",
   "metadata": {},
   "outputs": [],
   "source": [
    "## 数组形状变换"
   ]
  },
  {
   "cell_type": "code",
   "execution_count": 10,
   "id": "40251eee-45d4-49fc-abe4-cf529add8a3e",
   "metadata": {},
   "outputs": [
    {
     "data": {
      "text/plain": [
       "(2, 2)"
      ]
     },
     "execution_count": 10,
     "metadata": {},
     "output_type": "execute_result"
    }
   ],
   "source": [
    "arr_2_d.shape"
   ]
  },
  {
   "cell_type": "code",
   "execution_count": 11,
   "id": "3b99940e-08eb-4b50-ae02-ed9099cf4c17",
   "metadata": {},
   "outputs": [
    {
     "data": {
      "text/plain": [
       "array([[1, 2],\n",
       "       [3, 4]])"
      ]
     },
     "execution_count": 11,
     "metadata": {},
     "output_type": "execute_result"
    }
   ],
   "source": [
    "arr_2_d"
   ]
  },
  {
   "cell_type": "code",
   "execution_count": 12,
   "id": "4e38dd27-5e9b-48d2-816f-820a71e44085",
   "metadata": {},
   "outputs": [
    {
     "data": {
      "text/plain": [
       "array([[1],\n",
       "       [2],\n",
       "       [3],\n",
       "       [4]])"
      ]
     },
     "execution_count": 12,
     "metadata": {},
     "output_type": "execute_result"
    }
   ],
   "source": [
    "arr_2_d.reshape((4,1))"
   ]
  },
  {
   "cell_type": "code",
   "execution_count": 13,
   "id": "b58f2500-0847-4df9-8a0f-80e819f2ec86",
   "metadata": {},
   "outputs": [
    {
     "name": "stdout",
     "output_type": "stream",
     "text": [
      "[[0 1 2]\n",
      " [3 4 5]]\n"
     ]
    }
   ],
   "source": [
    "a = np.arange(6).reshape(2,3)\n",
    "print(a)"
   ]
  },
  {
   "cell_type": "code",
   "execution_count": 14,
   "id": "01af6174-88e2-4b9d-9f83-da7342bde4be",
   "metadata": {},
   "outputs": [],
   "source": [
    "## Pillow方式加载图片"
   ]
  },
  {
   "cell_type": "code",
   "execution_count": 15,
   "id": "ff9beb83-d6ca-4f2e-8741-74809c753424",
   "metadata": {},
   "outputs": [
    {
     "data": {
      "text/plain": [
       "(318, 116)"
      ]
     },
     "execution_count": 15,
     "metadata": {},
     "output_type": "execute_result"
    }
   ],
   "source": [
    "from PIL import Image\n",
    "im = Image.open('jk.jpg')\n",
    "im.size"
   ]
  },
  {
   "cell_type": "code",
   "execution_count": 16,
   "id": "30f1493c-81b1-4615-8811-7ddfaf2ca4f9",
   "metadata": {},
   "outputs": [],
   "source": [
    "## 图片二进制转为 NumPy 格式"
   ]
  },
  {
   "cell_type": "code",
   "execution_count": 17,
   "id": "655fdf9c-2e07-4ff3-a3bb-36c9d13b55f1",
   "metadata": {},
   "outputs": [
    {
     "data": {
      "text/plain": [
       "(116, 318, 3)"
      ]
     },
     "execution_count": 17,
     "metadata": {},
     "output_type": "execute_result"
    }
   ],
   "source": [
    "im_pillow = np.asarray(im)\n",
    "im_pillow.shape"
   ]
  },
  {
   "cell_type": "code",
   "execution_count": 18,
   "id": "766a58bf-c9d8-43e2-b9c1-6c06c2cd0cac",
   "metadata": {},
   "outputs": [],
   "source": [
    "## OpenCV方式加载图片"
   ]
  },
  {
   "cell_type": "code",
   "execution_count": 19,
   "id": "306f8ccb-76cb-4bfb-af89-aab4495ce32d",
   "metadata": {},
   "outputs": [
    {
     "data": {
      "text/plain": [
       "numpy.ndarray"
      ]
     },
     "execution_count": 19,
     "metadata": {},
     "output_type": "execute_result"
    }
   ],
   "source": [
    "import cv2\n",
    "im_cv2 = cv2.imread('jk.jpg')\n",
    "type(im_cv2)"
   ]
  },
  {
   "cell_type": "code",
   "execution_count": 20,
   "id": "816cbf06-2027-4253-a1be-1ecc57c5924c",
   "metadata": {},
   "outputs": [
    {
     "data": {
      "text/plain": [
       "(116, 318, 3)"
      ]
     },
     "execution_count": 20,
     "metadata": {},
     "output_type": "execute_result"
    }
   ],
   "source": [
    "im_cv2.shape"
   ]
  },
  {
   "cell_type": "code",
   "execution_count": 21,
   "id": "92a0d3c8-9c02-4ed7-bf64-ec910929191e",
   "metadata": {},
   "outputs": [
    {
     "data": {
      "text/plain": [
       "array([[255, 255, 255, ..., 255, 255, 255],\n",
       "       [255, 255, 255, ..., 255, 255, 255],\n",
       "       [255, 255, 255, ..., 255, 255, 255],\n",
       "       ...,\n",
       "       [255, 255, 255, ..., 255, 255, 255],\n",
       "       [255, 255, 255, ..., 255, 255, 255],\n",
       "       [255, 255, 255, ..., 255, 255, 255]], dtype=uint8)"
      ]
     },
     "execution_count": 21,
     "metadata": {},
     "output_type": "execute_result"
    }
   ],
   "source": [
    "im_pillow[:, :, 0]"
   ]
  },
  {
   "cell_type": "code",
   "execution_count": 22,
   "id": "45a1e58d-731e-4915-87d2-98705bd1ee2f",
   "metadata": {},
   "outputs": [],
   "source": [
    "im_pillow_c1 = im_pillow[:, :, 0]\n",
    "im_pillow_c2 = im_pillow[:, :, 1]\n",
    "im_pillow_c3 = im_pillow[:, :, 2]"
   ]
  },
  {
   "cell_type": "code",
   "execution_count": 23,
   "id": "1854e83b-ad77-456f-9612-2ba52d83ab7b",
   "metadata": {},
   "outputs": [
    {
     "data": {
      "text/plain": [
       "(116, 318, 2)"
      ]
     },
     "execution_count": 23,
     "metadata": {},
     "output_type": "execute_result"
    }
   ],
   "source": [
    "zeros = np.zeros((im_pillow.shape[0], im_pillow.shape[1], 2))\n",
    "zeros.shape"
   ]
  },
  {
   "cell_type": "code",
   "execution_count": 24,
   "id": "2ddbe5b6-edea-483f-82f9-30018075eeda",
   "metadata": {},
   "outputs": [
    {
     "ename": "AxisError",
     "evalue": "axis 2 is out of bounds for array of dimension 2",
     "output_type": "error",
     "traceback": [
      "\u001b[0;31m---------------------------------------------------------------------------\u001b[0m",
      "\u001b[0;31mAxisError\u001b[0m                                 Traceback (most recent call last)",
      "Cell \u001b[0;32mIn [24], line 1\u001b[0m\n\u001b[0;32m----> 1\u001b[0m im_pillow_c1_3ch \u001b[38;5;241m=\u001b[39m \u001b[43mnp\u001b[49m\u001b[38;5;241;43m.\u001b[39;49m\u001b[43mconcatenate\u001b[49m\u001b[43m(\u001b[49m\u001b[43m(\u001b[49m\u001b[43mim_pillow_c1\u001b[49m\u001b[43m,\u001b[49m\u001b[43m \u001b[49m\u001b[43mzeros\u001b[49m\u001b[43m)\u001b[49m\u001b[43m,\u001b[49m\u001b[43m \u001b[49m\u001b[43maxis\u001b[49m\u001b[38;5;241;43m=\u001b[39;49m\u001b[38;5;241;43m2\u001b[39;49m\u001b[43m)\u001b[49m\n",
      "File \u001b[0;32m<__array_function__ internals>:180\u001b[0m, in \u001b[0;36mconcatenate\u001b[0;34m(*args, **kwargs)\u001b[0m\n",
      "\u001b[0;31mAxisError\u001b[0m: axis 2 is out of bounds for array of dimension 2"
     ]
    }
   ],
   "source": [
    "im_pillow_c1_3ch = np.concatenate((im_pillow_c1, zeros), axis=2)"
   ]
  },
  {
   "cell_type": "code",
   "execution_count": 25,
   "id": "982d207f-4351-4759-9bdc-b9b828a7e83b",
   "metadata": {},
   "outputs": [
    {
     "data": {
      "text/plain": [
       "(116, 318)"
      ]
     },
     "execution_count": 25,
     "metadata": {},
     "output_type": "execute_result"
    }
   ],
   "source": [
    "im_pillow_c1.shape"
   ]
  },
  {
   "cell_type": "code",
   "execution_count": 26,
   "id": "bfa71a4b-cd04-41f1-a050-c905eff4c9f3",
   "metadata": {},
   "outputs": [
    {
     "data": {
      "text/plain": [
       "(116, 318, 2)"
      ]
     },
     "execution_count": 26,
     "metadata": {},
     "output_type": "execute_result"
    }
   ],
   "source": [
    "zeros.shape"
   ]
  },
  {
   "cell_type": "code",
   "execution_count": 27,
   "id": "57f059b2-b1c0-42ba-a34e-9a8275166d9b",
   "metadata": {},
   "outputs": [],
   "source": [
    "im_pillow_c1 = im_pillow_c1[:, :, np.newaxis]"
   ]
  },
  {
   "cell_type": "code",
   "execution_count": 28,
   "id": "c9cad963-4b55-47bf-9a08-87a93974e10d",
   "metadata": {},
   "outputs": [
    {
     "data": {
      "text/plain": [
       "(116, 318, 1)"
      ]
     },
     "execution_count": 28,
     "metadata": {},
     "output_type": "execute_result"
    }
   ],
   "source": [
    "im_pillow_c1.shape"
   ]
  },
  {
   "cell_type": "code",
   "execution_count": 29,
   "id": "ff13c29a-fdf7-4258-b5f5-9a47bbad9e39",
   "metadata": {},
   "outputs": [
    {
     "data": {
      "text/plain": [
       "(116, 318, 3)"
      ]
     },
     "execution_count": 29,
     "metadata": {},
     "output_type": "execute_result"
    }
   ],
   "source": [
    "im_pillow_c1_3ch = np.concatenate((im_pillow_c1, zeros), axis=2)\n",
    "im_pillow_c1_3ch.shape"
   ]
  },
  {
   "cell_type": "code",
   "execution_count": null,
   "id": "e27cb756-2981-4ea0-9df3-b04962887121",
   "metadata": {},
   "outputs": [],
   "source": []
  }
 ],
 "metadata": {
  "kernelspec": {
   "display_name": "Python 3 (ipykernel)",
   "language": "python",
   "name": "python3"
  },
  "language_info": {
   "codemirror_mode": {
    "name": "ipython",
    "version": 3
   },
   "file_extension": ".py",
   "mimetype": "text/x-python",
   "name": "python",
   "nbconvert_exporter": "python",
   "pygments_lexer": "ipython3",
   "version": "3.9.13"
  }
 },
 "nbformat": 4,
 "nbformat_minor": 5
}
